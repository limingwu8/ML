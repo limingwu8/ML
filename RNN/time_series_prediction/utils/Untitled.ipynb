{
 "cells": [
  {
   "cell_type": "code",
   "execution_count": 40,
   "metadata": {
    "collapsed": true
   },
   "outputs": [],
   "source": [
    "import pandas as pd\n",
    "import numpy as np"
   ]
  },
  {
   "cell_type": "code",
   "execution_count": 21,
   "metadata": {
    "collapsed": true
   },
   "outputs": [],
   "source": [
    "path = 'Z:\\\\USS-RF-Fan-Data-Analytics\\\\_8_Data-from-collaborator\\\\October 2017\\\\SepOctNov HSM Furnace tags.xlsx'\n",
    "df = pd.read_excel(path, sheetname='Oct17')"
   ]
  },
  {
   "cell_type": "code",
   "execution_count": 115,
   "metadata": {},
   "outputs": [],
   "source": [
    "df1 = df"
   ]
  },
  {
   "cell_type": "code",
   "execution_count": 116,
   "metadata": {},
   "outputs": [],
   "source": [
    "column_keep = [25,26,27,28,29,30,43,44,47,48,49,50,51,52,53,54,55,56,57,58,59,60,61,62]\n",
    "sensor_names = ['MAIN_FILTER_IN_PRESSURE', 'MAIN_FILTER_OIL_TEMP', 'MAIN_FILTER_OUT_PRESSURE', 'OIL_RETURN_TEMPERATURE',\n",
    "                'TANK_FILTER_IN_PRESSURE', 'TANK_FILTER_OUT_PRESSURE', 'TANK_LEVEL', 'TANK_TEMPERATURE', 'FT-202B', \n",
    "                'FT-204B','PT-203','PT-204']"
   ]
  },
  {
   "cell_type": "code",
   "execution_count": 117,
   "metadata": {},
   "outputs": [
    {
     "data": {
      "text/plain": [
       "(160728, 63)"
      ]
     },
     "execution_count": 117,
     "metadata": {},
     "output_type": "execute_result"
    }
   ],
   "source": [
    "df1.shape"
   ]
  },
  {
   "cell_type": "code",
   "execution_count": 118,
   "metadata": {},
   "outputs": [],
   "source": [
    "# delete some columns\n",
    "df1 = df1.iloc[:,column_keep]"
   ]
  },
  {
   "cell_type": "code",
   "execution_count": 119,
   "metadata": {},
   "outputs": [
    {
     "data": {
      "text/plain": [
       "24"
      ]
     },
     "execution_count": 119,
     "metadata": {},
     "output_type": "execute_result"
    }
   ],
   "source": [
    "df1.shape[1]"
   ]
  },
  {
   "cell_type": "code",
   "execution_count": 120,
   "metadata": {},
   "outputs": [
    {
     "name": "stdout",
     "output_type": "stream",
     "text": [
      "[ 0  2  4  6  8 10 12 14 16 18 20 22]\n",
      "[ 1  3  5  7  9 11 13 15 17 19 21 23]\n"
     ]
    }
   ],
   "source": [
    "time_index = np.arange(df1.shape[1])[::2]\n",
    "value_index = np.arange(df1.shape[1])[1::2]\n",
    "print(time_index)\n",
    "print(value_index)"
   ]
  },
  {
   "cell_type": "code",
   "execution_count": 121,
   "metadata": {
    "collapsed": true
   },
   "outputs": [],
   "source": [
    "time_col = df1.iloc[:,time_index]\n",
    "value_col = df1.iloc[:,value_index]"
   ]
  },
  {
   "cell_type": "code",
   "execution_count": 122,
   "metadata": {},
   "outputs": [
    {
     "name": "stdout",
     "output_type": "stream",
     "text": [
      "Unnamed: 26       434\n",
      "Unnamed: 28       515\n",
      "Unnamed: 30       401\n",
      "Unnamed: 44       784\n",
      "Unnamed: 48       401\n",
      "Unnamed: 50       401\n",
      "Unnamed: 52       846\n",
      "Unnamed: 54       991\n",
      "Unnamed: 56    159776\n",
      "Unnamed: 58    150034\n",
      "Unnamed: 60    160727\n",
      "Unnamed: 62    153792\n",
      "Name: 0, dtype: object\n"
     ]
    }
   ],
   "source": [
    "num_values = value_col.iloc[0,:]\n",
    "print(num_values)"
   ]
  },
  {
   "cell_type": "code",
   "execution_count": 123,
   "metadata": {},
   "outputs": [],
   "source": [
    "time_col = time_col.drop(0)\n",
    "value_col = value_col.drop(0)"
   ]
  },
  {
   "cell_type": "code",
   "execution_count": 124,
   "metadata": {},
   "outputs": [],
   "source": [
    "dfs = []\n",
    "for i in range(len(sensor_names)):\n",
    "    temp = pd.DataFrame({'time': time_col.iloc[:,i], 'value': value_col.iloc[:,i]})\n",
    "    dfs.append(temp.dropna())"
   ]
  },
  {
   "cell_type": "code",
   "execution_count": 137,
   "metadata": {},
   "outputs": [
    {
     "data": {
      "text/plain": [
       "time     2017-10-06 06:33:38.019000\n",
       "value                           Bad\n",
       "Name: 113, dtype: object"
      ]
     },
     "execution_count": 137,
     "metadata": {},
     "output_type": "execute_result"
    }
   ],
   "source": [
    "dfs[0].iloc[112,:]"
   ]
  },
  {
   "cell_type": "code",
   "execution_count": 139,
   "metadata": {},
   "outputs": [
    {
     "data": {
      "text/html": [
       "<div>\n",
       "<style>\n",
       "    .dataframe thead tr:only-child th {\n",
       "        text-align: right;\n",
       "    }\n",
       "\n",
       "    .dataframe thead th {\n",
       "        text-align: left;\n",
       "    }\n",
       "\n",
       "    .dataframe tbody tr th {\n",
       "        vertical-align: top;\n",
       "    }\n",
       "</style>\n",
       "<table border=\"1\" class=\"dataframe\">\n",
       "  <thead>\n",
       "    <tr style=\"text-align: right;\">\n",
       "      <th></th>\n",
       "      <th>time</th>\n",
       "      <th>value</th>\n",
       "    </tr>\n",
       "  </thead>\n",
       "  <tbody>\n",
       "    <tr>\n",
       "      <th>1</th>\n",
       "      <td>2017-10-01 01:01:48.009000</td>\n",
       "      <td>75.4006</td>\n",
       "    </tr>\n",
       "    <tr>\n",
       "      <th>2</th>\n",
       "      <td>2017-10-01 01:01:49.003000</td>\n",
       "      <td>75.4776</td>\n",
       "    </tr>\n",
       "    <tr>\n",
       "      <th>3</th>\n",
       "      <td>2017-10-01 01:01:50.007000</td>\n",
       "      <td>75.5181</td>\n",
       "    </tr>\n",
       "    <tr>\n",
       "      <th>4</th>\n",
       "      <td>2017-10-01 01:01:51.001000</td>\n",
       "      <td>75.4006</td>\n",
       "    </tr>\n",
       "    <tr>\n",
       "      <th>5</th>\n",
       "      <td>2017-10-01 01:01:52</td>\n",
       "      <td>75.3195</td>\n",
       "    </tr>\n",
       "    <tr>\n",
       "      <th>6</th>\n",
       "      <td>2017-10-01 01:01:53.007000</td>\n",
       "      <td>75.4006</td>\n",
       "    </tr>\n",
       "    <tr>\n",
       "      <th>7</th>\n",
       "      <td>2017-10-01 01:01:54</td>\n",
       "      <td>75.4006</td>\n",
       "    </tr>\n",
       "    <tr>\n",
       "      <th>8</th>\n",
       "      <td>2017-10-01 01:01:55.005000</td>\n",
       "      <td>75.4006</td>\n",
       "    </tr>\n",
       "    <tr>\n",
       "      <th>9</th>\n",
       "      <td>2017-10-01 01:01:56</td>\n",
       "      <td>75.1168</td>\n",
       "    </tr>\n",
       "    <tr>\n",
       "      <th>10</th>\n",
       "      <td>2017-10-01 01:01:57.005000</td>\n",
       "      <td>75.3195</td>\n",
       "    </tr>\n",
       "    <tr>\n",
       "      <th>11</th>\n",
       "      <td>2017-10-01 01:01:58.009000</td>\n",
       "      <td>75.4776</td>\n",
       "    </tr>\n",
       "    <tr>\n",
       "      <th>12</th>\n",
       "      <td>2017-10-01 01:01:59.004000</td>\n",
       "      <td>75.4411</td>\n",
       "    </tr>\n",
       "    <tr>\n",
       "      <th>13</th>\n",
       "      <td>2017-10-01 01:02:00.010000</td>\n",
       "      <td>75.4411</td>\n",
       "    </tr>\n",
       "    <tr>\n",
       "      <th>14</th>\n",
       "      <td>2017-10-01 01:02:00.996000</td>\n",
       "      <td>75.4411</td>\n",
       "    </tr>\n",
       "    <tr>\n",
       "      <th>15</th>\n",
       "      <td>2017-10-01 01:02:02.001000</td>\n",
       "      <td>75.4776</td>\n",
       "    </tr>\n",
       "    <tr>\n",
       "      <th>16</th>\n",
       "      <td>2017-10-01 01:11:48.020000</td>\n",
       "      <td>75.4776</td>\n",
       "    </tr>\n",
       "    <tr>\n",
       "      <th>17</th>\n",
       "      <td>2017-10-01 01:11:49.027000</td>\n",
       "      <td>75.5587</td>\n",
       "    </tr>\n",
       "    <tr>\n",
       "      <th>18</th>\n",
       "      <td>2017-10-01 01:11:50.029000</td>\n",
       "      <td>75.5992</td>\n",
       "    </tr>\n",
       "    <tr>\n",
       "      <th>19</th>\n",
       "      <td>2017-10-01 09:11:49.047000</td>\n",
       "      <td>76.1992</td>\n",
       "    </tr>\n",
       "    <tr>\n",
       "      <th>20</th>\n",
       "      <td>2017-10-01 17:11:49.019000</td>\n",
       "      <td>75.1573</td>\n",
       "    </tr>\n",
       "    <tr>\n",
       "      <th>21</th>\n",
       "      <td>2017-10-02 00:21:49.033000</td>\n",
       "      <td>75.0803</td>\n",
       "    </tr>\n",
       "    <tr>\n",
       "      <th>22</th>\n",
       "      <td>2017-10-02 00:21:50.028000</td>\n",
       "      <td>75.2384</td>\n",
       "    </tr>\n",
       "    <tr>\n",
       "      <th>23</th>\n",
       "      <td>2017-10-02 00:21:51.033000</td>\n",
       "      <td>75.1978</td>\n",
       "    </tr>\n",
       "    <tr>\n",
       "      <th>24</th>\n",
       "      <td>2017-10-02 00:21:52.028000</td>\n",
       "      <td>75.1573</td>\n",
       "    </tr>\n",
       "    <tr>\n",
       "      <th>25</th>\n",
       "      <td>2017-10-02 00:21:53.023000</td>\n",
       "      <td>75.1573</td>\n",
       "    </tr>\n",
       "    <tr>\n",
       "      <th>26</th>\n",
       "      <td>2017-10-02 00:21:54.028000</td>\n",
       "      <td>75.1978</td>\n",
       "    </tr>\n",
       "    <tr>\n",
       "      <th>27</th>\n",
       "      <td>2017-10-02 00:21:55.033000</td>\n",
       "      <td>75.2789</td>\n",
       "    </tr>\n",
       "    <tr>\n",
       "      <th>28</th>\n",
       "      <td>2017-10-02 00:21:56.038000</td>\n",
       "      <td>75.1978</td>\n",
       "    </tr>\n",
       "    <tr>\n",
       "      <th>29</th>\n",
       "      <td>2017-10-02 00:21:57.033000</td>\n",
       "      <td>75.1573</td>\n",
       "    </tr>\n",
       "    <tr>\n",
       "      <th>30</th>\n",
       "      <td>2017-10-02 00:21:58.038000</td>\n",
       "      <td>75.0803</td>\n",
       "    </tr>\n",
       "    <tr>\n",
       "      <th>...</th>\n",
       "      <td>...</td>\n",
       "      <td>...</td>\n",
       "    </tr>\n",
       "    <tr>\n",
       "      <th>405</th>\n",
       "      <td>2017-10-30 15:02:25.013000</td>\n",
       "      <td>76.0817</td>\n",
       "    </tr>\n",
       "    <tr>\n",
       "      <th>406</th>\n",
       "      <td>2017-10-30 15:02:26.010000</td>\n",
       "      <td>76.0006</td>\n",
       "    </tr>\n",
       "    <tr>\n",
       "      <th>407</th>\n",
       "      <td>2017-10-30 15:02:27.014000</td>\n",
       "      <td>75.96</td>\n",
       "    </tr>\n",
       "    <tr>\n",
       "      <th>408</th>\n",
       "      <td>2017-10-30 15:02:28.011000</td>\n",
       "      <td>76.0006</td>\n",
       "    </tr>\n",
       "    <tr>\n",
       "      <th>409</th>\n",
       "      <td>2017-10-30 15:02:29.009000</td>\n",
       "      <td>76.0411</td>\n",
       "    </tr>\n",
       "    <tr>\n",
       "      <th>410</th>\n",
       "      <td>2017-10-30 15:02:30.014000</td>\n",
       "      <td>76.0411</td>\n",
       "    </tr>\n",
       "    <tr>\n",
       "      <th>411</th>\n",
       "      <td>2017-10-30 15:02:31.009000</td>\n",
       "      <td>76.0411</td>\n",
       "    </tr>\n",
       "    <tr>\n",
       "      <th>412</th>\n",
       "      <td>2017-10-30 15:02:32.015000</td>\n",
       "      <td>76.0006</td>\n",
       "    </tr>\n",
       "    <tr>\n",
       "      <th>413</th>\n",
       "      <td>2017-10-30 15:02:33.011000</td>\n",
       "      <td>76.1222</td>\n",
       "    </tr>\n",
       "    <tr>\n",
       "      <th>414</th>\n",
       "      <td>2017-10-30 15:02:34.015000</td>\n",
       "      <td>76.0817</td>\n",
       "    </tr>\n",
       "    <tr>\n",
       "      <th>415</th>\n",
       "      <td>2017-10-30 15:02:35.011000</td>\n",
       "      <td>76.0411</td>\n",
       "    </tr>\n",
       "    <tr>\n",
       "      <th>416</th>\n",
       "      <td>2017-10-30 15:12:20.012000</td>\n",
       "      <td>76.0411</td>\n",
       "    </tr>\n",
       "    <tr>\n",
       "      <th>417</th>\n",
       "      <td>2017-10-30 23:12:19.961000</td>\n",
       "      <td>76.3209</td>\n",
       "    </tr>\n",
       "    <tr>\n",
       "      <th>418</th>\n",
       "      <td>2017-10-31 07:12:19.029000</td>\n",
       "      <td>77.1236</td>\n",
       "    </tr>\n",
       "    <tr>\n",
       "      <th>419</th>\n",
       "      <td>2017-10-31 15:12:18.971000</td>\n",
       "      <td>75.0803</td>\n",
       "    </tr>\n",
       "    <tr>\n",
       "      <th>420</th>\n",
       "      <td>2017-10-31 16:52:26.022000</td>\n",
       "      <td>75.4411</td>\n",
       "    </tr>\n",
       "    <tr>\n",
       "      <th>421</th>\n",
       "      <td>2017-10-31 16:52:27.022000</td>\n",
       "      <td>75.4006</td>\n",
       "    </tr>\n",
       "    <tr>\n",
       "      <th>422</th>\n",
       "      <td>2017-10-31 16:52:28.020000</td>\n",
       "      <td>75.4411</td>\n",
       "    </tr>\n",
       "    <tr>\n",
       "      <th>423</th>\n",
       "      <td>2017-10-31 16:52:29.027000</td>\n",
       "      <td>75.4776</td>\n",
       "    </tr>\n",
       "    <tr>\n",
       "      <th>424</th>\n",
       "      <td>2017-10-31 16:52:30.026000</td>\n",
       "      <td>75.4776</td>\n",
       "    </tr>\n",
       "    <tr>\n",
       "      <th>425</th>\n",
       "      <td>2017-10-31 16:52:31.024000</td>\n",
       "      <td>75.5181</td>\n",
       "    </tr>\n",
       "    <tr>\n",
       "      <th>426</th>\n",
       "      <td>2017-10-31 16:52:32.022000</td>\n",
       "      <td>75.5181</td>\n",
       "    </tr>\n",
       "    <tr>\n",
       "      <th>427</th>\n",
       "      <td>2017-10-31 16:52:33.020000</td>\n",
       "      <td>75.5181</td>\n",
       "    </tr>\n",
       "    <tr>\n",
       "      <th>428</th>\n",
       "      <td>2017-10-31 16:52:34.027000</td>\n",
       "      <td>75.5181</td>\n",
       "    </tr>\n",
       "    <tr>\n",
       "      <th>429</th>\n",
       "      <td>2017-10-31 16:52:35.026000</td>\n",
       "      <td>75.5181</td>\n",
       "    </tr>\n",
       "    <tr>\n",
       "      <th>430</th>\n",
       "      <td>2017-10-31 16:52:36.024000</td>\n",
       "      <td>75.5587</td>\n",
       "    </tr>\n",
       "    <tr>\n",
       "      <th>431</th>\n",
       "      <td>2017-10-31 16:52:37.022000</td>\n",
       "      <td>75.5587</td>\n",
       "    </tr>\n",
       "    <tr>\n",
       "      <th>432</th>\n",
       "      <td>2017-10-31 16:52:38.021000</td>\n",
       "      <td>75.4776</td>\n",
       "    </tr>\n",
       "    <tr>\n",
       "      <th>433</th>\n",
       "      <td>2017-10-31 16:52:39.019000</td>\n",
       "      <td>75.4006</td>\n",
       "    </tr>\n",
       "    <tr>\n",
       "      <th>434</th>\n",
       "      <td>2017-10-31 16:52:40.017000</td>\n",
       "      <td>75.36</td>\n",
       "    </tr>\n",
       "  </tbody>\n",
       "</table>\n",
       "<p>434 rows × 2 columns</p>\n",
       "</div>"
      ],
      "text/plain": [
       "                           time    value\n",
       "1    2017-10-01 01:01:48.009000  75.4006\n",
       "2    2017-10-01 01:01:49.003000  75.4776\n",
       "3    2017-10-01 01:01:50.007000  75.5181\n",
       "4    2017-10-01 01:01:51.001000  75.4006\n",
       "5           2017-10-01 01:01:52  75.3195\n",
       "6    2017-10-01 01:01:53.007000  75.4006\n",
       "7           2017-10-01 01:01:54  75.4006\n",
       "8    2017-10-01 01:01:55.005000  75.4006\n",
       "9           2017-10-01 01:01:56  75.1168\n",
       "10   2017-10-01 01:01:57.005000  75.3195\n",
       "11   2017-10-01 01:01:58.009000  75.4776\n",
       "12   2017-10-01 01:01:59.004000  75.4411\n",
       "13   2017-10-01 01:02:00.010000  75.4411\n",
       "14   2017-10-01 01:02:00.996000  75.4411\n",
       "15   2017-10-01 01:02:02.001000  75.4776\n",
       "16   2017-10-01 01:11:48.020000  75.4776\n",
       "17   2017-10-01 01:11:49.027000  75.5587\n",
       "18   2017-10-01 01:11:50.029000  75.5992\n",
       "19   2017-10-01 09:11:49.047000  76.1992\n",
       "20   2017-10-01 17:11:49.019000  75.1573\n",
       "21   2017-10-02 00:21:49.033000  75.0803\n",
       "22   2017-10-02 00:21:50.028000  75.2384\n",
       "23   2017-10-02 00:21:51.033000  75.1978\n",
       "24   2017-10-02 00:21:52.028000  75.1573\n",
       "25   2017-10-02 00:21:53.023000  75.1573\n",
       "26   2017-10-02 00:21:54.028000  75.1978\n",
       "27   2017-10-02 00:21:55.033000  75.2789\n",
       "28   2017-10-02 00:21:56.038000  75.1978\n",
       "29   2017-10-02 00:21:57.033000  75.1573\n",
       "30   2017-10-02 00:21:58.038000  75.0803\n",
       "..                          ...      ...\n",
       "405  2017-10-30 15:02:25.013000  76.0817\n",
       "406  2017-10-30 15:02:26.010000  76.0006\n",
       "407  2017-10-30 15:02:27.014000    75.96\n",
       "408  2017-10-30 15:02:28.011000  76.0006\n",
       "409  2017-10-30 15:02:29.009000  76.0411\n",
       "410  2017-10-30 15:02:30.014000  76.0411\n",
       "411  2017-10-30 15:02:31.009000  76.0411\n",
       "412  2017-10-30 15:02:32.015000  76.0006\n",
       "413  2017-10-30 15:02:33.011000  76.1222\n",
       "414  2017-10-30 15:02:34.015000  76.0817\n",
       "415  2017-10-30 15:02:35.011000  76.0411\n",
       "416  2017-10-30 15:12:20.012000  76.0411\n",
       "417  2017-10-30 23:12:19.961000  76.3209\n",
       "418  2017-10-31 07:12:19.029000  77.1236\n",
       "419  2017-10-31 15:12:18.971000  75.0803\n",
       "420  2017-10-31 16:52:26.022000  75.4411\n",
       "421  2017-10-31 16:52:27.022000  75.4006\n",
       "422  2017-10-31 16:52:28.020000  75.4411\n",
       "423  2017-10-31 16:52:29.027000  75.4776\n",
       "424  2017-10-31 16:52:30.026000  75.4776\n",
       "425  2017-10-31 16:52:31.024000  75.5181\n",
       "426  2017-10-31 16:52:32.022000  75.5181\n",
       "427  2017-10-31 16:52:33.020000  75.5181\n",
       "428  2017-10-31 16:52:34.027000  75.5181\n",
       "429  2017-10-31 16:52:35.026000  75.5181\n",
       "430  2017-10-31 16:52:36.024000  75.5587\n",
       "431  2017-10-31 16:52:37.022000  75.5587\n",
       "432  2017-10-31 16:52:38.021000  75.4776\n",
       "433  2017-10-31 16:52:39.019000  75.4006\n",
       "434  2017-10-31 16:52:40.017000    75.36\n",
       "\n",
       "[434 rows x 2 columns]"
      ]
     },
     "execution_count": 139,
     "metadata": {},
     "output_type": "execute_result"
    }
   ],
   "source": [
    "dfs[0]"
   ]
  },
  {
   "cell_type": "code",
   "execution_count": 146,
   "metadata": {},
   "outputs": [
    {
     "data": {
      "text/plain": [
       "Int64Index([  1,   2,   3,   4,   5,   6,   7,   8,   9,  10,\n",
       "            ...\n",
       "            425, 426, 427, 428, 429, 430, 431, 432, 433, 434],\n",
       "           dtype='int64', length=432)"
      ]
     },
     "execution_count": 146,
     "metadata": {},
     "output_type": "execute_result"
    }
   ],
   "source": [
    "a = dfs[0]\n",
    "a[~a['value'].isin(['Bad'])].index"
   ]
  }
 ],
 "metadata": {
  "kernelspec": {
   "display_name": "Python 3",
   "language": "python",
   "name": "python3"
  },
  "language_info": {
   "codemirror_mode": {
    "name": "ipython",
    "version": 3
   },
   "file_extension": ".py",
   "mimetype": "text/x-python",
   "name": "python",
   "nbconvert_exporter": "python",
   "pygments_lexer": "ipython3",
   "version": "3.6.1"
  }
 },
 "nbformat": 4,
 "nbformat_minor": 2
}
