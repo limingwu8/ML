{
 "cells": [
  {
   "cell_type": "code",
   "execution_count": 2,
   "metadata": {
    "collapsed": true
   },
   "outputs": [],
   "source": [
    "import pandas as pd\n",
    "import numpy as np"
   ]
  },
  {
   "cell_type": "code",
   "execution_count": 4,
   "metadata": {},
   "outputs": [],
   "source": [
    "path = 'Y:\\\\USS-RF-Fan-Data-Analytics\\\\_8_Data-from-collaborator\\\\October 2017\\\\SepOctNov HSM Furnace tags.xlsx'\n",
    "df = pd.read_excel(path, sheetname='Oct17')"
   ]
  },
  {
   "cell_type": "code",
   "execution_count": 5,
   "metadata": {
    "collapsed": true
   },
   "outputs": [],
   "source": [
    "df1 = df"
   ]
  },
  {
   "cell_type": "code",
   "execution_count": 6,
   "metadata": {
    "collapsed": true
   },
   "outputs": [],
   "source": [
    "column_keep = [25,26,27,28,29,30,43,44,47,48,49,50,51,52,53,54,55,56,57,58,59,60,61,62]\n",
    "sensor_names = ['MAIN_FILTER_IN_PRESSURE', 'MAIN_FILTER_OIL_TEMP', 'MAIN_FILTER_OUT_PRESSURE', 'OIL_RETURN_TEMPERATURE',\n",
    "                'TANK_FILTER_IN_PRESSURE', 'TANK_FILTER_OUT_PRESSURE', 'TANK_LEVEL', 'TANK_TEMPERATURE', 'FT-202B', \n",
    "                'FT-204B','PT-203','PT-204']"
   ]
  },
  {
   "cell_type": "code",
   "execution_count": 7,
   "metadata": {},
   "outputs": [
    {
     "data": {
      "text/plain": [
       "(160728, 63)"
      ]
     },
     "execution_count": 7,
     "metadata": {},
     "output_type": "execute_result"
    }
   ],
   "source": [
    "df1.shape"
   ]
  },
  {
   "cell_type": "code",
   "execution_count": 8,
   "metadata": {
    "collapsed": true
   },
   "outputs": [],
   "source": [
    "# delete some columns\n",
    "df1 = df1.iloc[:,column_keep]"
   ]
  },
  {
   "cell_type": "code",
   "execution_count": 9,
   "metadata": {},
   "outputs": [
    {
     "data": {
      "text/plain": [
       "24"
      ]
     },
     "execution_count": 9,
     "metadata": {},
     "output_type": "execute_result"
    }
   ],
   "source": [
    "df1.shape[1]"
   ]
  },
  {
   "cell_type": "code",
   "execution_count": 10,
   "metadata": {},
   "outputs": [
    {
     "name": "stdout",
     "output_type": "stream",
     "text": [
      "[ 0  2  4  6  8 10 12 14 16 18 20 22]\n",
      "[ 1  3  5  7  9 11 13 15 17 19 21 23]\n"
     ]
    }
   ],
   "source": [
    "time_index = np.arange(df1.shape[1])[::2]\n",
    "value_index = np.arange(df1.shape[1])[1::2]\n",
    "print(time_index)\n",
    "print(value_index)"
   ]
  },
  {
   "cell_type": "code",
   "execution_count": 11,
   "metadata": {
    "collapsed": true
   },
   "outputs": [],
   "source": [
    "time_col = df1.iloc[:,time_index]\n",
    "value_col = df1.iloc[:,value_index]"
   ]
  },
  {
   "cell_type": "code",
   "execution_count": 12,
   "metadata": {},
   "outputs": [
    {
     "name": "stdout",
     "output_type": "stream",
     "text": [
      "Unnamed: 26       434\n",
      "Unnamed: 28       515\n",
      "Unnamed: 30       401\n",
      "Unnamed: 44       784\n",
      "Unnamed: 48       401\n",
      "Unnamed: 50       401\n",
      "Unnamed: 52       846\n",
      "Unnamed: 54       991\n",
      "Unnamed: 56    159776\n",
      "Unnamed: 58    150034\n",
      "Unnamed: 60    160727\n",
      "Unnamed: 62    153792\n",
      "Name: 0, dtype: object\n"
     ]
    }
   ],
   "source": [
    "num_values = value_col.iloc[0,:]\n",
    "print(num_values)"
   ]
  },
  {
   "cell_type": "code",
   "execution_count": 13,
   "metadata": {
    "collapsed": true
   },
   "outputs": [],
   "source": [
    "time_col = time_col.drop(0)\n",
    "value_col = value_col.drop(0)"
   ]
  },
  {
   "cell_type": "code",
   "execution_count": 14,
   "metadata": {
    "collapsed": true
   },
   "outputs": [],
   "source": [
    "dfs = []\n",
    "for i in range(len(sensor_names)):\n",
    "    temp = pd.DataFrame({'time': time_col.iloc[:,i], 'value': value_col.iloc[:,i]})\n",
    "    dfs.append(temp.dropna())"
   ]
  },
  {
   "cell_type": "code",
   "execution_count": 15,
   "metadata": {},
   "outputs": [
    {
     "data": {
      "text/plain": [
       "time     2017-10-06 06:33:38.019000\n",
       "value                           Bad\n",
       "Name: 113, dtype: object"
      ]
     },
     "execution_count": 15,
     "metadata": {},
     "output_type": "execute_result"
    }
   ],
   "source": [
    "dfs[0].iloc[112,:]"
   ]
  },
  {
   "cell_type": "code",
   "execution_count": 20,
   "metadata": {},
   "outputs": [
    {
     "data": {
      "text/plain": [
       "434"
      ]
     },
     "execution_count": 20,
     "metadata": {},
     "output_type": "execute_result"
    }
   ],
   "source": [
    "len(dfs[0])"
   ]
  },
  {
   "cell_type": "code",
   "execution_count": 24,
   "metadata": {},
   "outputs": [
    {
     "data": {
      "text/plain": [
       "(432, 2)"
      ]
     },
     "execution_count": 24,
     "metadata": {},
     "output_type": "execute_result"
    }
   ],
   "source": [
    "# clean 'Bad' values and reset index\n",
    "a = dfs[0]\n",
    "a = a[~a['value'].isin(['Bad'])]\n",
    "a = a.reset_index(drop=True)"
   ]
  },
  {
   "cell_type": "code",
   "execution_count": null,
   "metadata": {
    "collapsed": true
   },
   "outputs": [],
   "source": []
  },
  {
   "cell_type": "code",
   "execution_count": null,
   "metadata": {
    "collapsed": true
   },
   "outputs": [],
   "source": []
  }
 ],
 "metadata": {
  "kernelspec": {
   "display_name": "Python 3",
   "language": "python",
   "name": "python3"
  },
  "language_info": {
   "codemirror_mode": {
    "name": "ipython",
    "version": 3
   },
   "file_extension": ".py",
   "mimetype": "text/x-python",
   "name": "python",
   "nbconvert_exporter": "python",
   "pygments_lexer": "ipython3",
   "version": "3.6.3"
  }
 },
 "nbformat": 4,
 "nbformat_minor": 2
}
