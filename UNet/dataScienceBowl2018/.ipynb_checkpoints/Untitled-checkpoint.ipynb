{
 "cells": [
  {
   "cell_type": "code",
   "execution_count": 9,
   "metadata": {},
   "outputs": [],
   "source": [
    "import os\n",
    "import sys\n",
    "import random\n",
    "import warnings\n",
    "\n",
    "import numpy as np\n",
    "import pandas as pd\n",
    "\n",
    "import matplotlib.pyplot as plt\n",
    "\n",
    "from tqdm import tqdm\n",
    "from itertools import chain\n",
    "from skimage.io import imread, imshow, imread_collection, concatenate_images\n",
    "from skimage.transform import resize\n",
    "from skimage.morphology import label\n",
    "\n",
    "from keras.models import Model, load_model\n",
    "from keras.layers import Input\n",
    "from keras.layers.core import Dropout, Lambda\n",
    "from keras.layers.convolutional import Conv2D, Conv2DTranspose\n",
    "from keras.layers.pooling import MaxPooling2D\n",
    "from keras.layers.merge import concatenate\n",
    "from keras.callbacks import EarlyStopping, ModelCheckpoint\n",
    "from keras import backend as K\n",
    "\n",
    "import tensorflow as tf\n",
    "\n",
    "# Set some parameters\n",
    "IMG_WIDTH = 128\n",
    "IMG_HEIGHT = 128\n",
    "IMG_CHANNELS = 3\n",
    "TRAIN_PATH = '/root/dataset/dataScienceBowl2018/stage1_train/'\n",
    "TEST_PATH = '/root/dataset/dataScienceBowl2018/stage1_test/'\n",
    "\n",
    "warnings.filterwarnings('ignore', category=UserWarning, module='skimage')\n",
    "seed = 42\n",
    "random.seed = seed\n",
    "np.random.seed = seed\n"
   ]
  },
  {
   "cell_type": "code",
   "execution_count": 10,
   "metadata": {
    "collapsed": true
   },
   "outputs": [],
   "source": [
    "# Get train and test IDs\n",
    "train_ids = next(os.walk(TRAIN_PATH))[1]\n",
    "test_ids = next(os.walk(TEST_PATH))[1]"
   ]
  },
  {
   "cell_type": "code",
   "execution_count": 11,
   "metadata": {},
   "outputs": [
    {
     "name": "stdout",
     "output_type": "stream",
     "text": [
      "Getting and resizing train images and masks ... \n"
     ]
    },
    {
     "name": "stderr",
     "output_type": "stream",
     "text": [
      "100%|██████████| 670/670 [01:37<00:00,  6.85it/s]"
     ]
    },
    {
     "name": "stdout",
     "output_type": "stream",
     "text": [
      "Getting and resizing test images ... \n"
     ]
    },
    {
     "name": "stderr",
     "output_type": "stream",
     "text": [
      "\n",
      "100%|██████████| 65/65 [00:01<00:00, 48.47it/s]"
     ]
    },
    {
     "name": "stdout",
     "output_type": "stream",
     "text": [
      "Done!\n"
     ]
    },
    {
     "name": "stderr",
     "output_type": "stream",
     "text": [
      "\n"
     ]
    }
   ],
   "source": [
    "X_train = np.zeros((len(train_ids), IMG_HEIGHT, IMG_WIDTH, IMG_CHANNELS), dtype=np.uint8)\n",
    "Y_train = np.zeros((len(train_ids), IMG_HEIGHT, IMG_WIDTH, 1), dtype=np.bool)\n",
    "print('Getting and resizing train images and masks ... ')\n",
    "sys.stdout.flush()\n",
    "for n, id_ in tqdm(enumerate(train_ids), total=len(train_ids)):\n",
    "    path = TRAIN_PATH + id_\n",
    "    img = imread(path + '/images/' + id_ + '.png')[:,:,:IMG_CHANNELS]\n",
    "    img = resize(img, (IMG_HEIGHT, IMG_WIDTH), mode='constant', preserve_range=True)\n",
    "    X_train[n] = img\n",
    "    mask = np.zeros((IMG_HEIGHT, IMG_WIDTH, 1), dtype=np.bool)\n",
    "    for mask_file in next(os.walk(path + '/masks/'))[2]:\n",
    "        mask_ = imread(path + '/masks/' + mask_file)\n",
    "        mask_ = np.expand_dims(resize(mask_, (IMG_HEIGHT, IMG_WIDTH), mode='constant', \n",
    "                                      preserve_range=True), axis=-1)\n",
    "        mask = np.maximum(mask, mask_)\n",
    "    Y_train[n] = mask\n",
    "\n",
    "# Get and resize test images\n",
    "X_test = np.zeros((len(test_ids), IMG_HEIGHT, IMG_WIDTH, IMG_CHANNELS), dtype=np.uint8)\n",
    "sizes_test = []\n",
    "print('Getting and resizing test images ... ')\n",
    "sys.stdout.flush()\n",
    "for n, id_ in tqdm(enumerate(test_ids), total=len(test_ids)):\n",
    "    path = TEST_PATH + id_\n",
    "    img = imread(path + '/images/' + id_ + '.png')[:,:,:IMG_CHANNELS]\n",
    "    sizes_test.append([img.shape[0], img.shape[1]])\n",
    "    img = resize(img, (IMG_HEIGHT, IMG_WIDTH), mode='constant', preserve_range=True)\n",
    "    X_test[n] = img\n",
    "\n",
    "print('Done!')\n"
   ]
  },
  {
   "cell_type": "code",
   "execution_count": 24,
   "metadata": {},
   "outputs": [
    {
     "name": "stdout",
     "output_type": "stream",
     "text": [
      "X_train.shape: (670, 128, 128, 3)\n",
      "Y_train.shape: (670, 128, 128, 1)\n",
      "X_test.shape: (65, 128, 128, 3)\n",
      "length of sizes_test: 65\n",
      "[519, 253]\n"
     ]
    }
   ],
   "source": [
    "print('X_train.shape: ' + str(X_train.shape))\n",
    "print('Y_train.shape: ' + str(Y_train.shape))\n",
    "print('X_test.shape: ' + str(X_test.shape))\n",
    "print('length of sizes_test: ' + str(len(sizes_test)))\n",
    "print(sizes_test[15])"
   ]
  },
  {
   "cell_type": "code",
   "execution_count": 25,
   "metadata": {},
   "outputs": [
    {
     "data": {
      "image/png": "[encoded data removed]",
      "text/plain": [
       "<matplotlib.figure.Figure at 0x7f0b78766978>"
      ]
     },
     "metadata": {},
     "output_type": "display_data"
    },
    {
     "data": {
      "image/png": "[encoded data removed]",
      "text/plain": [
       "<matplotlib.figure.Figure at 0x7f0b77310f98>"
      ]
     },
     "metadata": {},
     "output_type": "display_data"
    }
   ],
   "source": [
    "# Check if training data looks all right\n",
    "ix = random.randint(0, len(train_ids))\n",
    "imshow(X_train[ix])\n",
    "plt.show()\n",
    "imshow(np.squeeze(Y_train[ix]))\n",
    "plt.show()"
   ]
  },
  {
   "cell_type": "code",
   "execution_count": 29,
   "metadata": {
    "collapsed": true
   },
   "outputs": [],
   "source": [
    "def mean_iou(y_true, y_pred):\n",
    "   score, up_opt = tf.metrics.mean_iou(y_true, y_pred, 2)\n",
    "   K.get_session().run(tf.local_variables_initializer())\n",
    "   with tf.control_dependencies([up_opt]):\n",
    "       score = tf.identity(score)\n",
    "   return score"
   ]
  },
  {
   "cell_type": "code",
   "execution_count": 30,
   "metadata": {},
   "outputs": [
    {
     "name": "stdout",
     "output_type": "stream",
     "text": [
      "____________________________________________________________________________________________________\n",
      "Layer (type)                     Output Shape          Param #     Connected to                     \n",
      "====================================================================================================\n",
      "input_3 (InputLayer)             (None, 128, 128, 3)   0                                            \n",
      "____________________________________________________________________________________________________\n",
      "lambda_3 (Lambda)                (None, 128, 128, 3)   0           input_3[0][0]                    \n",
      "____________________________________________________________________________________________________\n",
      "conv2d_39 (Conv2D)               (None, 128, 128, 16)  448         lambda_3[0][0]                   \n",
      "____________________________________________________________________________________________________\n",
      "dropout_19 (Dropout)             (None, 128, 128, 16)  0           conv2d_39[0][0]                  \n",
      "____________________________________________________________________________________________________\n",
      "conv2d_40 (Conv2D)               (None, 128, 128, 16)  2320        dropout_19[0][0]                 \n",
      "____________________________________________________________________________________________________\n",
      "max_pooling2d_9 (MaxPooling2D)   (None, 64, 64, 16)    0           conv2d_40[0][0]                  \n",
      "____________________________________________________________________________________________________\n",
      "conv2d_41 (Conv2D)               (None, 64, 64, 32)    4640        max_pooling2d_9[0][0]            \n",
      "____________________________________________________________________________________________________\n",
      "dropout_20 (Dropout)             (None, 64, 64, 32)    0           conv2d_41[0][0]                  \n",
      "____________________________________________________________________________________________________\n",
      "conv2d_42 (Conv2D)               (None, 64, 64, 32)    9248        dropout_20[0][0]                 \n",
      "____________________________________________________________________________________________________\n",
      "max_pooling2d_10 (MaxPooling2D)  (None, 32, 32, 32)    0           conv2d_42[0][0]                  \n",
      "____________________________________________________________________________________________________\n",
      "conv2d_43 (Conv2D)               (None, 32, 32, 64)    18496       max_pooling2d_10[0][0]           \n",
      "____________________________________________________________________________________________________\n",
      "dropout_21 (Dropout)             (None, 32, 32, 64)    0           conv2d_43[0][0]                  \n",
      "____________________________________________________________________________________________________\n",
      "conv2d_44 (Conv2D)               (None, 32, 32, 64)    36928       dropout_21[0][0]                 \n",
      "____________________________________________________________________________________________________\n",
      "max_pooling2d_11 (MaxPooling2D)  (None, 16, 16, 64)    0           conv2d_44[0][0]                  \n",
      "____________________________________________________________________________________________________\n",
      "conv2d_45 (Conv2D)               (None, 16, 16, 128)   73856       max_pooling2d_11[0][0]           \n",
      "____________________________________________________________________________________________________\n",
      "dropout_22 (Dropout)             (None, 16, 16, 128)   0           conv2d_45[0][0]                  \n",
      "____________________________________________________________________________________________________\n",
      "conv2d_46 (Conv2D)               (None, 16, 16, 128)   147584      dropout_22[0][0]                 \n",
      "____________________________________________________________________________________________________\n",
      "max_pooling2d_12 (MaxPooling2D)  (None, 8, 8, 128)     0           conv2d_46[0][0]                  \n",
      "____________________________________________________________________________________________________\n",
      "conv2d_47 (Conv2D)               (None, 8, 8, 256)     295168      max_pooling2d_12[0][0]           \n",
      "____________________________________________________________________________________________________\n",
      "dropout_23 (Dropout)             (None, 8, 8, 256)     0           conv2d_47[0][0]                  \n",
      "____________________________________________________________________________________________________\n",
      "conv2d_48 (Conv2D)               (None, 8, 8, 256)     590080      dropout_23[0][0]                 \n",
      "____________________________________________________________________________________________________\n",
      "conv2d_transpose_9 (Conv2DTransp (None, 16, 16, 128)   131200      conv2d_48[0][0]                  \n",
      "____________________________________________________________________________________________________\n",
      "concatenate_9 (Concatenate)      (None, 16, 16, 256)   0           conv2d_transpose_9[0][0]         \n",
      "                                                                   conv2d_46[0][0]                  \n",
      "____________________________________________________________________________________________________\n",
      "conv2d_49 (Conv2D)               (None, 16, 16, 128)   295040      concatenate_9[0][0]              \n",
      "____________________________________________________________________________________________________\n",
      "dropout_24 (Dropout)             (None, 16, 16, 128)   0           conv2d_49[0][0]                  \n",
      "____________________________________________________________________________________________________\n",
      "conv2d_50 (Conv2D)               (None, 16, 16, 128)   147584      dropout_24[0][0]                 \n",
      "____________________________________________________________________________________________________\n",
      "conv2d_transpose_10 (Conv2DTrans (None, 32, 32, 64)    32832       conv2d_50[0][0]                  \n",
      "____________________________________________________________________________________________________\n",
      "concatenate_10 (Concatenate)     (None, 32, 32, 128)   0           conv2d_transpose_10[0][0]        \n",
      "                                                                   conv2d_44[0][0]                  \n",
      "____________________________________________________________________________________________________\n",
      "conv2d_51 (Conv2D)               (None, 32, 32, 64)    73792       concatenate_10[0][0]             \n",
      "____________________________________________________________________________________________________\n",
      "dropout_25 (Dropout)             (None, 32, 32, 64)    0           conv2d_51[0][0]                  \n",
      "____________________________________________________________________________________________________\n",
      "conv2d_52 (Conv2D)               (None, 32, 32, 64)    36928       dropout_25[0][0]                 \n",
      "____________________________________________________________________________________________________\n",
      "conv2d_transpose_11 (Conv2DTrans (None, 64, 64, 32)    8224        conv2d_52[0][0]                  \n",
      "____________________________________________________________________________________________________\n",
      "concatenate_11 (Concatenate)     (None, 64, 64, 64)    0           conv2d_transpose_11[0][0]        \n",
      "                                                                   conv2d_42[0][0]                  \n",
      "____________________________________________________________________________________________________\n",
      "conv2d_53 (Conv2D)               (None, 64, 64, 32)    18464       concatenate_11[0][0]             \n",
      "____________________________________________________________________________________________________\n",
      "dropout_26 (Dropout)             (None, 64, 64, 32)    0           conv2d_53[0][0]                  \n",
      "____________________________________________________________________________________________________\n",
      "conv2d_54 (Conv2D)               (None, 64, 64, 32)    9248        dropout_26[0][0]                 \n",
      "____________________________________________________________________________________________________\n",
      "conv2d_transpose_12 (Conv2DTrans (None, 128, 128, 16)  2064        conv2d_54[0][0]                  \n",
      "____________________________________________________________________________________________________\n",
      "concatenate_12 (Concatenate)     (None, 128, 128, 32)  0           conv2d_transpose_12[0][0]        \n",
      "                                                                   conv2d_40[0][0]                  \n",
      "____________________________________________________________________________________________________\n",
      "conv2d_55 (Conv2D)               (None, 128, 128, 16)  4624        concatenate_12[0][0]             \n",
      "____________________________________________________________________________________________________\n",
      "dropout_27 (Dropout)             (None, 128, 128, 16)  0           conv2d_55[0][0]                  \n",
      "____________________________________________________________________________________________________\n",
      "conv2d_56 (Conv2D)               (None, 128, 128, 16)  2320        dropout_27[0][0]                 \n",
      "____________________________________________________________________________________________________\n",
      "conv2d_57 (Conv2D)               (None, 128, 128, 1)   17          conv2d_56[0][0]                  \n",
      "====================================================================================================\n",
      "Total params: 1,941,105\n",
      "Trainable params: 1,941,105\n",
      "Non-trainable params: 0\n",
      "____________________________________________________________________________________________________\n"
     ]
    }
   ],
   "source": [
    "# Build U-Net model\n",
    "inputs = Input((IMG_HEIGHT, IMG_WIDTH, IMG_CHANNELS))\n",
    "s = Lambda(lambda x: x / 255) (inputs)\n",
    "\n",
    "c1 = Conv2D(16, (3, 3), activation='elu', kernel_initializer='he_normal', padding='same') (s)\n",
    "c1 = Dropout(0.1) (c1)\n",
    "c1 = Conv2D(16, (3, 3), activation='elu', kernel_initializer='he_normal', padding='same') (c1)\n",
    "p1 = MaxPooling2D((2, 2)) (c1)\n",
    "\n",
    "c2 = Conv2D(32, (3, 3), activation='elu', kernel_initializer='he_normal', padding='same') (p1)\n",
    "c2 = Dropout(0.1) (c2)\n",
    "c2 = Conv2D(32, (3, 3), activation='elu', kernel_initializer='he_normal', padding='same') (c2)\n",
    "p2 = MaxPooling2D((2, 2)) (c2)\n",
    "\n",
    "c3 = Conv2D(64, (3, 3), activation='elu', kernel_initializer='he_normal', padding='same') (p2)\n",
    "c3 = Dropout(0.2) (c3)\n",
    "c3 = Conv2D(64, (3, 3), activation='elu', kernel_initializer='he_normal', padding='same') (c3)\n",
    "p3 = MaxPooling2D((2, 2)) (c3)\n",
    "\n",
    "c4 = Conv2D(128, (3, 3), activation='elu', kernel_initializer='he_normal', padding='same') (p3)\n",
    "c4 = Dropout(0.2) (c4)\n",
    "c4 = Conv2D(128, (3, 3), activation='elu', kernel_initializer='he_normal', padding='same') (c4)\n",
    "p4 = MaxPooling2D(pool_size=(2, 2)) (c4)\n",
    "\n",
    "c5 = Conv2D(256, (3, 3), activation='elu', kernel_initializer='he_normal', padding='same') (p4)\n",
    "c5 = Dropout(0.3) (c5)\n",
    "c5 = Conv2D(256, (3, 3), activation='elu', kernel_initializer='he_normal', padding='same') (c5)\n",
    "\n",
    "u6 = Conv2DTranspose(128, (2, 2), strides=(2, 2), padding='same') (c5)\n",
    "u6 = concatenate([u6, c4])\n",
    "c6 = Conv2D(128, (3, 3), activation='elu', kernel_initializer='he_normal', padding='same') (u6)\n",
    "c6 = Dropout(0.2) (c6)\n",
    "c6 = Conv2D(128, (3, 3), activation='elu', kernel_initializer='he_normal', padding='same') (c6)\n",
    "\n",
    "u7 = Conv2DTranspose(64, (2, 2), strides=(2, 2), padding='same') (c6)\n",
    "u7 = concatenate([u7, c3])\n",
    "c7 = Conv2D(64, (3, 3), activation='elu', kernel_initializer='he_normal', padding='same') (u7)\n",
    "c7 = Dropout(0.2) (c7)\n",
    "c7 = Conv2D(64, (3, 3), activation='elu', kernel_initializer='he_normal', padding='same') (c7)\n",
    "\n",
    "u8 = Conv2DTranspose(32, (2, 2), strides=(2, 2), padding='same') (c7)\n",
    "u8 = concatenate([u8, c2])\n",
    "c8 = Conv2D(32, (3, 3), activation='elu', kernel_initializer='he_normal', padding='same') (u8)\n",
    "c8 = Dropout(0.1) (c8)\n",
    "c8 = Conv2D(32, (3, 3), activation='elu', kernel_initializer='he_normal', padding='same') (c8)\n",
    "\n",
    "u9 = Conv2DTranspose(16, (2, 2), strides=(2, 2), padding='same') (c8)\n",
    "u9 = concatenate([u9, c1], axis=3)\n",
    "c9 = Conv2D(16, (3, 3), activation='elu', kernel_initializer='he_normal', padding='same') (u9)\n",
    "c9 = Dropout(0.1) (c9)\n",
    "c9 = Conv2D(16, (3, 3), activation='elu', kernel_initializer='he_normal', padding='same') (c9)\n",
    "\n",
    "outputs = Conv2D(1, (1, 1), activation='sigmoid') (c9)\n",
    "\n",
    "model = Model(inputs=[inputs], outputs=[outputs])\n",
    "model.compile(optimizer='adam', loss='binary_crossentropy', metrics=[mean_iou])\n",
    "model.summary()"
   ]
  },
  {
   "cell_type": "code",
   "execution_count": 31,
   "metadata": {},
   "outputs": [
    {
     "name": "stdout",
     "output_type": "stream",
     "text": [
      "Train on 603 samples, validate on 67 samples\n",
      "Epoch 1/50\n",
      "592/603 [============================>.] - ETA: 0s - loss: 0.3667 - mean_iou: 0.4120Epoch 00000: val_loss improved from inf to 0.21235, saving model to model-dsbowl2018-1.h5\n",
      "603/603 [==============================] - 58s - loss: 0.3644 - mean_iou: 0.4122 - val_loss: 0.2123 - val_mean_iou: 0.4234\n",
      "Epoch 2/50\n",
      "592/603 [============================>.] - ETA: 0s - loss: 0.1850 - mean_iou: 0.4232Epoch 00001: val_loss improved from 0.21235 to 0.14957, saving model to model-dsbowl2018-1.h5\n",
      "603/603 [==============================] - 42s - loss: 0.1856 - mean_iou: 0.4232 - val_loss: 0.1496 - val_mean_iou: 0.4235\n",
      "Epoch 3/50\n",
      "592/603 [============================>.] - ETA: 0s - loss: 0.1544 - mean_iou: 0.4235Epoch 00002: val_loss improved from 0.14957 to 0.13197, saving model to model-dsbowl2018-1.h5\n",
      "603/603 [==============================] - 41s - loss: 0.1539 - mean_iou: 0.4235 - val_loss: 0.1320 - val_mean_iou: 0.4235\n",
      "Epoch 4/50\n",
      "592/603 [============================>.] - ETA: 0s - loss: 0.1279 - mean_iou: 0.4236Epoch 00003: val_loss improved from 0.13197 to 0.11701, saving model to model-dsbowl2018-1.h5\n",
      "603/603 [==============================] - 41s - loss: 0.1293 - mean_iou: 0.4236 - val_loss: 0.1170 - val_mean_iou: 0.4235\n",
      "Epoch 5/50\n",
      "592/603 [============================>.] - ETA: 0s - loss: 0.1174 - mean_iou: 0.4236Epoch 00004: val_loss improved from 0.11701 to 0.10397, saving model to model-dsbowl2018-1.h5\n",
      "603/603 [==============================] - 41s - loss: 0.1177 - mean_iou: 0.4236 - val_loss: 0.1040 - val_mean_iou: 0.4235\n",
      "Epoch 6/50\n",
      "592/603 [============================>.] - ETA: 0s - loss: 0.1113 - mean_iou: 0.4236Epoch 00005: val_loss did not improve\n",
      "603/603 [==============================] - 41s - loss: 0.1118 - mean_iou: 0.4236 - val_loss: 0.1048 - val_mean_iou: 0.4235\n",
      "Epoch 7/50\n",
      "592/603 [============================>.] - ETA: 0s - loss: 0.1085 - mean_iou: 0.4236Epoch 00006: val_loss improved from 0.10397 to 0.09829, saving model to model-dsbowl2018-1.h5\n",
      "603/603 [==============================] - 41s - loss: 0.1082 - mean_iou: 0.4236 - val_loss: 0.0983 - val_mean_iou: 0.4235\n",
      "Epoch 8/50\n",
      "592/603 [============================>.] - ETA: 0s - loss: 0.1026 - mean_iou: 0.4235Epoch 00007: val_loss improved from 0.09829 to 0.09218, saving model to model-dsbowl2018-1.h5\n",
      "603/603 [==============================] - 41s - loss: 0.1019 - mean_iou: 0.4235 - val_loss: 0.0922 - val_mean_iou: 0.4235\n",
      "Epoch 9/50\n",
      "592/603 [============================>.] - ETA: 0s - loss: 0.1000 - mean_iou: 0.4235Epoch 00008: val_loss improved from 0.09218 to 0.09114, saving model to model-dsbowl2018-1.h5\n",
      "603/603 [==============================] - 41s - loss: 0.1004 - mean_iou: 0.4235 - val_loss: 0.0911 - val_mean_iou: 0.4235\n",
      "Epoch 10/50\n",
      "592/603 [============================>.] - ETA: 0s - loss: 0.1021 - mean_iou: 0.4236Epoch 00009: val_loss did not improve\n",
      "603/603 [==============================] - 41s - loss: 0.1022 - mean_iou: 0.4236 - val_loss: 0.1050 - val_mean_iou: 0.4235\n",
      "Epoch 11/50\n",
      "592/603 [============================>.] - ETA: 0s - loss: 0.0996 - mean_iou: 0.4235Epoch 00010: val_loss improved from 0.09114 to 0.08703, saving model to model-dsbowl2018-1.h5\n",
      "603/603 [==============================] - 41s - loss: 0.0996 - mean_iou: 0.4235 - val_loss: 0.0870 - val_mean_iou: 0.4235\n",
      "Epoch 12/50\n",
      "592/603 [============================>.] - ETA: 0s - loss: 0.0934 - mean_iou: 0.4235Epoch 00011: val_loss improved from 0.08703 to 0.08291, saving model to model-dsbowl2018-1.h5\n",
      "603/603 [==============================] - 42s - loss: 0.0933 - mean_iou: 0.4235 - val_loss: 0.0829 - val_mean_iou: 0.4235\n",
      "Epoch 13/50\n",
      "592/603 [============================>.] - ETA: 0s - loss: 0.0907 - mean_iou: 0.4235Epoch 00012: val_loss improved from 0.08291 to 0.08039, saving model to model-dsbowl2018-1.h5\n",
      "603/603 [==============================] - 43s - loss: 0.0901 - mean_iou: 0.4235 - val_loss: 0.0804 - val_mean_iou: 0.4235\n",
      "Epoch 14/50\n",
      "592/603 [============================>.] - ETA: 0s - loss: 0.0877 - mean_iou: 0.4236Epoch 00013: val_loss did not improve\n",
      "603/603 [==============================] - 41s - loss: 0.0874 - mean_iou: 0.4236 - val_loss: 0.0814 - val_mean_iou: 0.4235\n",
      "Epoch 15/50\n",
      "592/603 [============================>.] - ETA: 0s - loss: 0.0845 - mean_iou: 0.4236Epoch 00014: val_loss improved from 0.08039 to 0.07417, saving model to model-dsbowl2018-1.h5\n",
      "603/603 [==============================] - 42s - loss: 0.0849 - mean_iou: 0.4236 - val_loss: 0.0742 - val_mean_iou: 0.4235\n",
      "Epoch 16/50\n",
      "592/603 [============================>.] - ETA: 0s - loss: 0.0849 - mean_iou: 0.4235Epoch 00015: val_loss improved from 0.07417 to 0.07237, saving model to model-dsbowl2018-1.h5\n",
      "603/603 [==============================] - 41s - loss: 0.0847 - mean_iou: 0.4235 - val_loss: 0.0724 - val_mean_iou: 0.4235\n",
      "Epoch 17/50\n",
      "592/603 [============================>.] - ETA: 0s - loss: 0.0828 - mean_iou: 0.4236Epoch 00016: val_loss did not improve\n",
      "603/603 [==============================] - 41s - loss: 0.0832 - mean_iou: 0.4236 - val_loss: 0.0728 - val_mean_iou: 0.4235\n",
      "Epoch 18/50\n",
      "592/603 [============================>.] - ETA: 0s - loss: 0.0804 - mean_iou: 0.4236Epoch 00017: val_loss did not improve\n",
      "603/603 [==============================] - 41s - loss: 0.0803 - mean_iou: 0.4236 - val_loss: 0.0729 - val_mean_iou: 0.4235\n",
      "Epoch 19/50\n",
      "592/603 [============================>.] - ETA: 0s - loss: 0.0809 - mean_iou: 0.4235Epoch 00018: val_loss improved from 0.07237 to 0.06875, saving model to model-dsbowl2018-1.h5\n",
      "603/603 [==============================] - 42s - loss: 0.0810 - mean_iou: 0.4235 - val_loss: 0.0687 - val_mean_iou: 0.4235\n",
      "Epoch 20/50\n",
      "592/603 [============================>.] - ETA: 0s - loss: 0.0800 - mean_iou: 0.4235Epoch 00019: val_loss did not improve\n",
      "603/603 [==============================] - 42s - loss: 0.0797 - mean_iou: 0.4235 - val_loss: 0.0733 - val_mean_iou: 0.4235\n",
      "Epoch 21/50\n",
      "592/603 [============================>.] - ETA: 0s - loss: 0.0850 - mean_iou: 0.4235Epoch 00020: val_loss did not improve\n",
      "603/603 [==============================] - 43s - loss: 0.0844 - mean_iou: 0.4235 - val_loss: 0.0730 - val_mean_iou: 0.4235\n",
      "Epoch 22/50\n",
      "592/603 [============================>.] - ETA: 0s - loss: 0.0797 - mean_iou: 0.4235Epoch 00021: val_loss improved from 0.06875 to 0.06725, saving model to model-dsbowl2018-1.h5\n",
      "603/603 [==============================] - 43s - loss: 0.0790 - mean_iou: 0.4235 - val_loss: 0.0672 - val_mean_iou: 0.4235\n",
      "Epoch 23/50\n",
      "592/603 [============================>.] - ETA: 0s - loss: 0.0788 - mean_iou: 0.4236Epoch 00022: val_loss did not improve\n",
      "603/603 [==============================] - 42s - loss: 0.0785 - mean_iou: 0.4236 - val_loss: 0.0834 - val_mean_iou: 0.4235\n",
      "Epoch 24/50\n",
      "592/603 [============================>.] - ETA: 0s - loss: 0.0804 - mean_iou: 0.4236Epoch 00023: val_loss did not improve\n",
      "603/603 [==============================] - 42s - loss: 0.0806 - mean_iou: 0.4236 - val_loss: 0.0690 - val_mean_iou: 0.4235\n",
      "Epoch 25/50\n",
      "592/603 [============================>.] - ETA: 0s - loss: 0.0757 - mean_iou: 0.4235Epoch 00024: val_loss improved from 0.06725 to 0.06610, saving model to model-dsbowl2018-1.h5\n",
      "603/603 [==============================] - 43s - loss: 0.0757 - mean_iou: 0.4235 - val_loss: 0.0661 - val_mean_iou: 0.4235\n",
      "Epoch 26/50\n",
      "592/603 [============================>.] - ETA: 0s - loss: 0.0737 - mean_iou: 0.4236Epoch 00025: val_loss improved from 0.06610 to 0.06361, saving model to model-dsbowl2018-1.h5\n",
      "603/603 [==============================] - 42s - loss: 0.0737 - mean_iou: 0.4236 - val_loss: 0.0636 - val_mean_iou: 0.4235\n",
      "Epoch 27/50\n",
      "592/603 [============================>.] - ETA: 0s - loss: 0.0726 - mean_iou: 0.4235Epoch 00026: val_loss did not improve\n",
      "603/603 [==============================] - 41s - loss: 0.0726 - mean_iou: 0.4235 - val_loss: 0.0659 - val_mean_iou: 0.4235\n",
      "Epoch 28/50\n",
      "592/603 [============================>.] - ETA: 0s - loss: 0.0728 - mean_iou: 0.4235Epoch 00027: val_loss did not improve\n",
      "603/603 [==============================] - 42s - loss: 0.0724 - mean_iou: 0.4235 - val_loss: 0.0659 - val_mean_iou: 0.4235\n",
      "Epoch 29/50\n"
     ]
    },
    {
     "name": "stdout",
     "output_type": "stream",
     "text": [
      "592/603 [============================>.] - ETA: 0s - loss: 0.0720 - mean_iou: 0.4235Epoch 00028: val_loss improved from 0.06361 to 0.06271, saving model to model-dsbowl2018-1.h5\n",
      "603/603 [==============================] - 42s - loss: 0.0722 - mean_iou: 0.4235 - val_loss: 0.0627 - val_mean_iou: 0.4235\n",
      "Epoch 30/50\n",
      "592/603 [============================>.] - ETA: 0s - loss: 0.0719 - mean_iou: 0.4235Epoch 00029: val_loss did not improve\n",
      "603/603 [==============================] - 42s - loss: 0.0718 - mean_iou: 0.4235 - val_loss: 0.0634 - val_mean_iou: 0.4235\n",
      "Epoch 31/50\n",
      "592/603 [============================>.] - ETA: 0s - loss: 0.0722 - mean_iou: 0.4235Epoch 00030: val_loss did not improve\n",
      "603/603 [==============================] - 41s - loss: 0.0720 - mean_iou: 0.4235 - val_loss: 0.0640 - val_mean_iou: 0.4235\n",
      "Epoch 32/50\n",
      "592/603 [============================>.] - ETA: 0s - loss: 0.0710 - mean_iou: 0.4236Epoch 00031: val_loss improved from 0.06271 to 0.06050, saving model to model-dsbowl2018-1.h5\n",
      "603/603 [==============================] - 42s - loss: 0.0706 - mean_iou: 0.4236 - val_loss: 0.0605 - val_mean_iou: 0.4235\n",
      "Epoch 33/50\n",
      "592/603 [============================>.] - ETA: 0s - loss: 0.0702 - mean_iou: 0.4236Epoch 00032: val_loss did not improve\n",
      "603/603 [==============================] - 41s - loss: 0.0700 - mean_iou: 0.4236 - val_loss: 0.0640 - val_mean_iou: 0.4235\n",
      "Epoch 34/50\n",
      "592/603 [============================>.] - ETA: 0s - loss: 0.0716 - mean_iou: 0.4235Epoch 00033: val_loss did not improve\n",
      "603/603 [==============================] - 41s - loss: 0.0712 - mean_iou: 0.4235 - val_loss: 0.0637 - val_mean_iou: 0.4235\n",
      "Epoch 35/50\n",
      "592/603 [============================>.] - ETA: 0s - loss: 0.0691 - mean_iou: 0.4235Epoch 00034: val_loss improved from 0.06050 to 0.05971, saving model to model-dsbowl2018-1.h5\n",
      "603/603 [==============================] - 41s - loss: 0.0699 - mean_iou: 0.4235 - val_loss: 0.0597 - val_mean_iou: 0.4235\n",
      "Epoch 36/50\n",
      "592/603 [============================>.] - ETA: 0s - loss: 0.0695 - mean_iou: 0.4236Epoch 00035: val_loss did not improve\n",
      "603/603 [==============================] - 41s - loss: 0.0696 - mean_iou: 0.4236 - val_loss: 0.0632 - val_mean_iou: 0.4235\n",
      "Epoch 37/50\n",
      "592/603 [============================>.] - ETA: 0s - loss: 0.0702 - mean_iou: 0.4236Epoch 00036: val_loss did not improve\n",
      "603/603 [==============================] - 42s - loss: 0.0700 - mean_iou: 0.4236 - val_loss: 0.0603 - val_mean_iou: 0.4235\n",
      "Epoch 38/50\n",
      "592/603 [============================>.] - ETA: 0s - loss: 0.0683 - mean_iou: 0.4235Epoch 00037: val_loss did not improve\n",
      "603/603 [==============================] - 42s - loss: 0.0690 - mean_iou: 0.4235 - val_loss: 0.0617 - val_mean_iou: 0.4235\n",
      "Epoch 39/50\n",
      "592/603 [============================>.] - ETA: 0s - loss: 0.0681 - mean_iou: 0.4235Epoch 00038: val_loss improved from 0.05971 to 0.05863, saving model to model-dsbowl2018-1.h5\n",
      "603/603 [==============================] - 43s - loss: 0.0679 - mean_iou: 0.4235 - val_loss: 0.0586 - val_mean_iou: 0.4235\n",
      "Epoch 40/50\n",
      "592/603 [============================>.] - ETA: 0s - loss: 0.0662 - mean_iou: 0.4235Epoch 00039: val_loss improved from 0.05863 to 0.05774, saving model to model-dsbowl2018-1.h5\n",
      "603/603 [==============================] - 42s - loss: 0.0662 - mean_iou: 0.4235 - val_loss: 0.0577 - val_mean_iou: 0.4235\n",
      "Epoch 41/50\n",
      "592/603 [============================>.] - ETA: 0s - loss: 0.0654 - mean_iou: 0.4236Epoch 00040: val_loss did not improve\n",
      "603/603 [==============================] - 41s - loss: 0.0655 - mean_iou: 0.4236 - val_loss: 0.0598 - val_mean_iou: 0.4235\n",
      "Epoch 42/50\n",
      "592/603 [============================>.] - ETA: 0s - loss: 0.0662 - mean_iou: 0.4236Epoch 00041: val_loss improved from 0.05774 to 0.05635, saving model to model-dsbowl2018-1.h5\n",
      "603/603 [==============================] - 42s - loss: 0.0657 - mean_iou: 0.4236 - val_loss: 0.0563 - val_mean_iou: 0.4235\n",
      "Epoch 43/50\n",
      "592/603 [============================>.] - ETA: 0s - loss: 0.0661 - mean_iou: 0.4235Epoch 00042: val_loss did not improve\n",
      "603/603 [==============================] - 41s - loss: 0.0654 - mean_iou: 0.4235 - val_loss: 0.0570 - val_mean_iou: 0.4235\n",
      "Epoch 44/50\n",
      "592/603 [============================>.] - ETA: 0s - loss: 0.0652 - mean_iou: 0.4235Epoch 00043: val_loss did not improve\n",
      "603/603 [==============================] - 41s - loss: 0.0655 - mean_iou: 0.4235 - val_loss: 0.0606 - val_mean_iou: 0.4235\n",
      "Epoch 45/50\n",
      "592/603 [============================>.] - ETA: 0s - loss: 0.0644 - mean_iou: 0.4235Epoch 00044: val_loss did not improve\n",
      "603/603 [==============================] - 41s - loss: 0.0641 - mean_iou: 0.4235 - val_loss: 0.0600 - val_mean_iou: 0.4235\n",
      "Epoch 46/50\n",
      "592/603 [============================>.] - ETA: 0s - loss: 0.0635 - mean_iou: 0.4236Epoch 00045: val_loss did not improve\n",
      "603/603 [==============================] - 41s - loss: 0.0637 - mean_iou: 0.4236 - val_loss: 0.0568 - val_mean_iou: 0.4235\n",
      "Epoch 47/50\n",
      "592/603 [============================>.] - ETA: 0s - loss: 0.0641 - mean_iou: 0.4235Epoch 00046: val_loss did not improve\n",
      "603/603 [==============================] - 41s - loss: 0.0642 - mean_iou: 0.4235 - val_loss: 0.0569 - val_mean_iou: 0.4235\n",
      "Epoch 48/50\n",
      "592/603 [============================>.] - ETA: 0s - loss: 0.0632 - mean_iou: 0.4235Epoch 00047: val_loss did not improve\n",
      "603/603 [==============================] - 41s - loss: 0.0629 - mean_iou: 0.4235 - val_loss: 0.0575 - val_mean_iou: 0.4235\n",
      "Epoch 00047: early stopping\n"
     ]
    }
   ],
   "source": [
    "# Fit model\n",
    "earlystopper = EarlyStopping(patience=5, verbose=1)\n",
    "checkpointer = ModelCheckpoint('model-dsbowl2018-1.h5', verbose=1, save_best_only=True)\n",
    "results = model.fit(X_train, Y_train, validation_split=0.1, batch_size=16, epochs=50, \n",
    "                    callbacks=[earlystopper, checkpointer])"
   ]
  },
  {
   "cell_type": "code",
   "execution_count": 32,
   "metadata": {},
   "outputs": [
    {
     "name": "stdout",
     "output_type": "stream",
     "text": [
      "603/603 [==============================] - 13s    \n",
      "67/67 [==============================] - 0s     \n",
      "65/65 [==============================] - 1s     \n"
     ]
    }
   ],
   "source": [
    "# Predict on train, val and test\n",
    "model = load_model('model-dsbowl2018-1.h5', custom_objects={'mean_iou': mean_iou})\n",
    "preds_train = model.predict(X_train[:int(X_train.shape[0]*0.9)], verbose=1)\n",
    "preds_val = model.predict(X_train[int(X_train.shape[0]*0.9):], verbose=1)\n",
    "preds_test = model.predict(X_test, verbose=1)\n",
    "\n",
    "# Threshold predictions\n",
    "preds_train_t = (preds_train > 0.5).astype(np.uint8)\n",
    "preds_val_t = (preds_val > 0.5).astype(np.uint8)\n",
    "preds_test_t = (preds_test > 0.5).astype(np.uint8)\n",
    "\n",
    "# Create list of upsampled test masks\n",
    "preds_test_upsampled = []\n",
    "for i in range(len(preds_test)):\n",
    "    preds_test_upsampled.append(resize(np.squeeze(preds_test[i]), \n",
    "                                       (sizes_test[i][0], sizes_test[i][1]), \n",
    "                                       mode='constant', preserve_range=True))"
   ]
  },
  {
   "cell_type": "code",
   "execution_count": 38,
   "metadata": {},
   "outputs": [
    {
     "name": "stdout",
     "output_type": "stream",
     "text": [
      "(603, 128, 128, 1)\n"
     ]
    },
    {
     "data": {
      "image/png": "[encoded data removed]",
      "text/plain": [
       "<matplotlib.figure.Figure at 0x7f0b1be29518>"
      ]
     },
     "metadata": {},
     "output_type": "display_data"
    }
   ],
   "source": [
    "print(preds_train.shape)\n",
    "plt.imshow(np.squeeze(preds_train[0]))\n",
    "plt.show()"
   ]
  },
  {
   "cell_type": "code",
   "execution_count": 40,
   "metadata": {},
   "outputs": [
    {
     "name": "stdout",
     "output_type": "stream",
     "text": [
      "(67, 128, 128, 1)\n"
     ]
    },
    {
     "data": {
      "image/png": "[encoded data removed]",
      "text/plain": [
       "<matplotlib.figure.Figure at 0x7f0b1133db00>"
      ]
     },
     "metadata": {},
     "output_type": "display_data"
    }
   ],
   "source": [
    "print(preds_val.shape)\n",
    "plt.imshow(np.squeeze(preds_val[0]))\n",
    "plt.show()"
   ]
  },
  {
   "cell_type": "code",
   "execution_count": 42,
   "metadata": {},
   "outputs": [
    {
     "name": "stdout",
     "output_type": "stream",
     "text": [
      "(65, 128, 128, 1)\n"
     ]
    },
    {
     "data": {
      "image/png": "[encoded data removed]",
      "text/plain": [
       "<matplotlib.figure.Figure at 0x7f0b111f48d0>"
      ]
     },
     "metadata": {},
     "output_type": "display_data"
    }
   ],
   "source": [
    "print(preds_test.shape)\n",
    "plt.imshow(np.squeeze(preds_test[1]))\n",
    "plt.show()"
   ]
  },
  {
   "cell_type": "code",
   "execution_count": 43,
   "metadata": {},
   "outputs": [
    {
     "name": "stdout",
     "output_type": "stream",
     "text": [
      "(65, 128, 128, 1)\n"
     ]
    },
    {
     "data": {
      "image/png": "[encoded data removed]",
      "text/plain": [
       "<matplotlib.figure.Figure at 0x7f0b112691d0>"
      ]
     },
     "metadata": {},
     "output_type": "display_data"
    }
   ],
   "source": [
    "print(preds_test_t.shape)\n",
    "plt.imshow(np.squeeze(preds_test_t[1]))\n",
    "plt.show()"
   ]
  },
  {
   "cell_type": "code",
   "execution_count": 44,
   "metadata": {
    "collapsed": true
   },
   "outputs": [],
   "source": [
    "# Run-length encoding stolen from https://www.kaggle.com/rakhlin/fast-run-length-encoding-python\n",
    "def rle_encoding(x):\n",
    "    dots = np.where(x.T.flatten() == 1)[0]\n",
    "    run_lengths = []\n",
    "    prev = -2\n",
    "    for b in dots:\n",
    "        if (b>prev+1): run_lengths.extend((b + 1, 0))\n",
    "        run_lengths[-1] += 1\n",
    "        prev = b\n",
    "    return run_lengths\n",
    "\n",
    "def prob_to_rles(x, cutoff=0.5):\n",
    "    lab_img = label(x > cutoff)\n",
    "    for i in range(1, lab_img.max() + 1):\n",
    "        yield rle_encoding(lab_img == i)"
   ]
  },
  {
   "cell_type": "code",
   "execution_count": 45,
   "metadata": {
    "collapsed": true
   },
   "outputs": [],
   "source": [
    "new_test_ids = []\n",
    "rles = []\n",
    "for n, id_ in enumerate(test_ids):\n",
    "    rle = list(prob_to_rles(preds_test_upsampled[n]))\n",
    "    rles.extend(rle)\n",
    "    new_test_ids.extend([id_] * len(rle))"
   ]
  },
  {
   "cell_type": "code",
   "execution_count": 47,
   "metadata": {},
   "outputs": [
    {
     "data": {
      "text/plain": [
       "2309"
      ]
     },
     "execution_count": 47,
     "metadata": {},
     "output_type": "execute_result"
    }
   ],
   "source": [
    "len(new_test_ids)"
   ]
  },
  {
   "cell_type": "code",
   "execution_count": 49,
   "metadata": {
    "collapsed": true
   },
   "outputs": [],
   "source": [
    "# Create submission DataFrame\n",
    "sub = pd.DataFrame()\n",
    "sub['ImageId'] = new_test_ids\n",
    "sub['EncodedPixels'] = pd.Series(rles).apply(lambda x: ' '.join(str(y) for y in x))\n",
    "sub.to_csv('sub-dsbowl2018-1.csv', index=False)"
   ]
  },
  {
   "cell_type": "code",
   "execution_count": null,
   "metadata": {
    "collapsed": true
   },
   "outputs": [],
   "source": []
  }
 ],
 "metadata": {
  "kernelspec": {
   "display_name": "Python [default]",
   "language": "python",
   "name": "python3"
  },
  "language_info": {
   "codemirror_mode": {
    "name": "ipython",
    "version": 3
   },
   "file_extension": ".py",
   "mimetype": "text/x-python",
   "name": "python",
   "nbconvert_exporter": "python",
   "pygments_lexer": "ipython3",
   "version": "3.6.1"
  }
 },
 "nbformat": 4,
 "nbformat_minor": 2
}
